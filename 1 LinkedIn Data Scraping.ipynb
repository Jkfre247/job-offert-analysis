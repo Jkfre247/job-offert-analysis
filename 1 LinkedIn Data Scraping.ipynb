{
 "cells": [
  {
   "cell_type": "markdown",
   "id": "ccd1e05b",
   "metadata": {},
   "source": [
    "# Data Scraping"
   ]
  },
  {
   "cell_type": "markdown",
   "id": "d10a94aa",
   "metadata": {},
   "source": [
    "## Load Libraries "
   ]
  },
  {
   "cell_type": "code",
   "execution_count": 3,
   "id": "d2548290",
   "metadata": {},
   "outputs": [],
   "source": [
    "import pandas as pd\n",
    "import numpy as np\n",
    "import csv\n",
    "import time\n",
    "from selenium import webdriver\n",
    "from selenium.webdriver.support.ui import WebDriverWait\n",
    "from selenium.webdriver.common.by import By\n",
    "from selenium.webdriver.support import expected_conditions as EC\n",
    "from selenium.webdriver.common.keys import Keys\n",
    "import re\n",
    "from unidecode import unidecode"
   ]
  },
  {
   "cell_type": "markdown",
   "id": "98b91590",
   "metadata": {},
   "source": [
    "## Pre-compilation\n",
    "Start selenium, assign data to variables (password login), create df"
   ]
  },
  {
   "cell_type": "code",
   "execution_count": 5,
   "id": "22894543",
   "metadata": {},
   "outputs": [],
   "source": [
    "path = \"chromedriver.exe\"\n",
    "driver = webdriver.Chrome(path)\n",
    "username = \"\"\n",
    "password = \"\"\n",
    "df = pd.DataFrame(columns = ['Company Name', 'Title','Role','Role url','Localisation','Type','Level','Description'])\n",
    "wait=WebDriverWait(driver,20)"
   ]
  },
  {
   "cell_type": "code",
   "execution_count": null,
   "id": "cced088b",
   "metadata": {},
   "outputs": [],
   "source": [
    "## Logging in"
   ]
  },
  {
   "cell_type": "code",
   "execution_count": 18,
   "id": "5165cea0",
   "metadata": {},
   "outputs": [],
   "source": [
    "def login(login, password):\n",
    "    driver.get('https://www.linkedin.com/checkpoint/rm/sign-in-another-account?fromSignIn=true&trk=guest_homepage-basic_nav-header-signin')\n",
    "    time.sleep(3)\n",
    "    driver.find_element(by=By.ID,value=\"username\").send_keys(username)\n",
    "    time.sleep(3)\n",
    "    driver.find_element(by=By.ID,value=\"password\").send_keys(password)\n",
    "    time.sleep(3)\n",
    "    driver.find_element(by=By.CSS_SELECTOR,value=\".login__form button\").click()"
   ]
  },
  {
   "cell_type": "markdown",
   "id": "efc18c55",
   "metadata": {},
   "source": [
    "## Scrolling on the page\n",
    "Because linkedin contains a security feature that prevents the entire page of listings from loading, in order to see all the listings on a page (number of listings per page 25) you have to scroll to the bottom of a certain block and this feature makes it possible to load the entire page."
   ]
  },
  {
   "cell_type": "code",
   "execution_count": 19,
   "id": "0554d5da",
   "metadata": {},
   "outputs": [],
   "source": [
    "def scroll_down(driver):\n",
    "    zx=driver.find_element(by=By.CSS_SELECTOR,value=\".jobs-search-results-list\")\n",
    "    for i in range(17):\n",
    "        if i%2==1:\n",
    "            time.sleep(2)\n",
    "        driver.execute_script(f\"arguments[0].scrollTop = {i*200+200};\", zx)"
   ]
  },
  {
   "cell_type": "markdown",
   "id": "071b60b0",
   "metadata": {},
   "source": [
    "## Role check\n",
    "This consists of the scraping function taking the block name (offer title) e.g. \"Data Scientist company name\" sending the offer title to this function and checking if the offer is in the key or not if it is not in the key it returns a value of False equivalent to not having to click on the block thus saving time on compilation and space as the data is ignored."
   ]
  },
  {
   "cell_type": "code",
   "execution_count": 20,
   "id": "2e135576",
   "metadata": {},
   "outputs": [],
   "source": [
    "def role_checker(role):\n",
    "    #data scientist\n",
    "    if bool(re.search(\".*[Dd]ata\\s[Ss]cien.*\",role.lower())): \n",
    "        return True,\"Data Scientist\"\n",
    "    elif bool(re.search(\".*[Mm]achine\\s[Ll]earn.*\",role.lower())):\n",
    "        return True, \"Machine Learning\"\n",
    "    elif bool(re.search(\".*[Dd]ata\\s[Aa]nal.*\", role.lower())):\n",
    "        return True, \"Data Analyst\"\n",
    "    elif bool(re.search(\".*\\s[Aa]rtificial\\s[Ii]ntelligence\\s.*\", role.lower())) or bool(re.search(\".*\\s[Aa][Ii]\\s.*\", role.lower())):\n",
    "        return True, \"A.I.\"\n",
    "    else:\n",
    "        return False, None"
   ]
  },
  {
   "cell_type": "markdown",
   "id": "feed77d3",
   "metadata": {},
   "source": [
    "## Check work type\n",
    "This function checks the type of work full-time remote is included because some companies do not provide this information, which could result in incorrect data being loaded, thus allowing time for cleaning."
   ]
  },
  {
   "cell_type": "code",
   "execution_count": 21,
   "id": "f45b224b",
   "metadata": {},
   "outputs": [],
   "source": [
    "def requirements_checker(requirements):\n",
    "    if bool(re.search(\".*Pe.ny\\setat.*\",requirements)):\n",
    "        if bool(re.search(\".*·.*\",requirements)):\n",
    "            return [unidecode(x.strip()) for x in requirements.split(\"·\")]\n",
    "        else:\n",
    "            return [unidecode(requirements),None]\n",
    "        \n",
    "    elif bool(re.search(\".*Niepe.ny\\setat.*\",requirements)):\n",
    "        if bool(re.search(\".*·.*\",requirements)):\n",
    "            return [unidecode(x.strip()) for x in requirements.split(\"·\")]\n",
    "        else:\n",
    "            return [unidecode(requirements),None]\n",
    "    elif bool(re.search(\".*Zlecenie.*\",requirements)):\n",
    "        if bool(re.search(\".*·.*\",requirements)):\n",
    "            return [unidecode(x.strip()) for x in requirements.split(\"·\")]\n",
    "        else:\n",
    "            return [unidecode(requirements),None]\n",
    "    else:\n",
    "        return [None,None]"
   ]
  },
  {
   "cell_type": "markdown",
   "id": "442c105c",
   "metadata": {},
   "source": [
    "## Scraping the data\n",
    "the algorithm opens the uploaded link scrapes the number of offers so that they all load and one by one enters the corresponding blocks that have a value of true according to the key contained in the role_checker function. If the value is True the program scrapes the data from the url link up to the offer description assigning these values to our df"
   ]
  },
  {
   "cell_type": "code",
   "execution_count": 22,
   "id": "8c19d237",
   "metadata": {},
   "outputs": [],
   "source": [
    "def search(url):\n",
    "    time.sleep(1)\n",
    "    #driver.get(\"https://www.linkedin.com/jobs/search/?keywords=data%20science\")\n",
    "    for _ in range(40):\n",
    "        url=f\"{url}&start={25*_}\" # create url (25 max offers per page)\n",
    "        driver.get(url)\n",
    "        time.sleep(4)\n",
    "        scroll_down(driver)\n",
    "        block = driver.find_elements(by=By.CSS_SELECTOR,value=\".job-card-list\") # List of jobs panels\n",
    "        tit=driver.find_elements(by=By.CSS_SELECTOR,value='.artdeco-entity-lockup__title') # all job panels\n",
    "        print(len(block))\n",
    "        for j in range(len(block)):\n",
    "            time.sleep(3)\n",
    "            title=tit[j].text\n",
    "            add_bool,role=role_checker(title)\n",
    "            if add_bool:\n",
    "                i=block[j]\n",
    "                try:\n",
    "                    i.click() # entry specific offert\n",
    "                    time.sleep(3)\n",
    "                    print(1)\n",
    "                    panel=driver.find_element(by=By.CSS_SELECTOR,value=\".jobs-search__job-details\") # offert detail\n",
    "                    time.sleep(3) # taking all information\n",
    "                    company_name=panel.find_element(by=By.CSS_SELECTOR,value=\".jobs-unified-top-card__company-name\").text\n",
    "                    time.sleep(1)\n",
    "                    position_url= panel.find_element(by=By.CLASS_NAME,value=\"ember-view\").get_attribute(\"href\")\n",
    "                    time.sleep(1)\n",
    "                    localisation=driver.find_element(by=By.XPATH,value='//*[@id=\"main\"]/div/section[2]/div/div[2]/div[1]/div/div[1]/div/div[1]/div[1]/div[1]/span[1]/span[2]').text\n",
    "                    time.sleep(1)\n",
    "                    position=requirements_checker(panel.find_element(by=By.CSS_SELECTOR,value=\".jobs-unified-top-card__job-insight\").text)\n",
    "                    time.sleep(1)\n",
    "                    description=panel.find_element(by=By.CSS_SELECTOR,value=\".jobs-description\").text\n",
    "                    df.loc[len(df)]=[company_name, title, role, position_url, localisation,\n",
    "                                     position[0],position[1],description]\n",
    "                        #print(f\"company name:{company_name}\\ntitle:{title}\\nrole: {role}\\nurl: {position_url}\\nlokalizacja:{localisation}\\npozycja:{position}\")\n",
    "                        #print(f\"\\n\\ndescription:\\n{description}\")\n",
    "                    print(2)\n",
    "                except:\n",
    "                    print(\"error\")"
   ]
  },
  {
   "cell_type": "code",
   "execution_count": 23,
   "id": "594e89a5",
   "metadata": {},
   "outputs": [],
   "source": [
    "login(username,password)"
   ]
  },
  {
   "cell_type": "code",
   "execution_count": 1,
   "id": "07bff0f1",
   "metadata": {},
   "outputs": [],
   "source": [
    "search(\"https://www.linkedin.com/jobs/search/?currentJobId=3309502750&distance=25&f_E=1%2C2&geoId=103644278&keywords=data%20scientist\")"
   ]
  },
  {
   "cell_type": "code",
   "execution_count": 25,
   "id": "a39c5fcd",
   "metadata": {},
   "outputs": [],
   "source": [
    "df.to_csv(\"jobs_usa.csv\", index=False) # zapis w pliku csv"
   ]
  },
  {
   "cell_type": "code",
   "execution_count": 26,
   "id": "42ed8cce",
   "metadata": {},
   "outputs": [],
   "source": [
    "driver.quit()"
   ]
  }
 ],
 "metadata": {
  "kernelspec": {
   "display_name": "Python 3 (ipykernel)",
   "language": "python",
   "name": "python3"
  },
  "language_info": {
   "codemirror_mode": {
    "name": "ipython",
    "version": 3
   },
   "file_extension": ".py",
   "mimetype": "text/x-python",
   "name": "python",
   "nbconvert_exporter": "python",
   "pygments_lexer": "ipython3",
   "version": "3.9.12"
  }
 },
 "nbformat": 4,
 "nbformat_minor": 5
}
